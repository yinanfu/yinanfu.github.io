{
 "cells": [
  {
   "cell_type": "code",
   "execution_count": 1,
   "id": "52d17bc5",
   "metadata": {},
   "outputs": [],
   "source": [
    "import time\n",
    "from bs4 import BeautifulSoup\n",
    "from time import sleep\n",
    "import requests\n",
    "from random import randint\n",
    "from html.parser import HTMLParser\n",
    "import json"
   ]
  },
  {
   "cell_type": "code",
   "execution_count": 2,
   "id": "facef517",
   "metadata": {},
   "outputs": [],
   "source": [
    "USER_AGENT = {'User-Agent':'Mozilla/5.0 (Windows NT 10.0; Win64; x64)AppleWebKit/537.36 (KHTML, like Gecko) Chrome/61.0.3163.100 Safari/537.36'}"
   ]
  },
  {
   "cell_type": "code",
   "execution_count": 38,
   "id": "bedb62d3",
   "metadata": {},
   "outputs": [],
   "source": [
    "import requests\n",
    "\n",
    "class SearchEngine:\n",
    "    \n",
    "    @staticmethod\n",
    "    def search(inputData,sleep=True):\n",
    "        finalRes=[]\n",
    "        for i in range(len(inputData)):\n",
    "#             if sleep:\n",
    "#                 time.sleep(randint(10,15))\n",
    "            results = []\n",
    "            response = \"https://www.duckduckgo.com/html/?q=\"+inputData[i]\n",
    "            soup = BeautifulSoup(requests.get(response, headers=USER_AGENT).text,\"html.parser\")\n",
    "            results = SearchEngine.scrape_search_result(soup)\n",
    "            finalRes.append(results[:10])\n",
    "        return finalRes\n",
    "    \n",
    "    @staticmethod\n",
    "    def scrape_search_result(soup):\n",
    "        raw_results = soup.find_all(\"a\", attrs = {\"class\" : \"result__a\"})\n",
    "        results = []\n",
    "        for result in raw_results:\n",
    "            link = result.get('href')\n",
    "            results.append(link)\n",
    "        return results\n",
    "    \n",
    "    @staticmethod\n",
    "    def read_file(fileName):\n",
    "        inputData=[]\n",
    "        with open(fileName, \"r\") as f:\n",
    "            line = f.readline()\n",
    "            while line:\n",
    "                inputData.append(line.rstrip())\n",
    "                line = f.readline()\n",
    "        return inputData\n",
    "    "
   ]
  },
  {
   "cell_type": "code",
   "execution_count": 39,
   "id": "899fba68",
   "metadata": {},
   "outputs": [],
   "source": [
    "inputQuery = SearchEngine.read_file(\"100QueriesSet4.txt\")"
   ]
  },
  {
   "cell_type": "code",
   "execution_count": 40,
   "id": "d5f8467a",
   "metadata": {},
   "outputs": [],
   "source": [
    "final=SearchEngine.search(inputQuery)"
   ]
  },
  {
   "cell_type": "code",
   "execution_count": 41,
   "id": "e87de6bd",
   "metadata": {},
   "outputs": [],
   "source": [
    "data = {}\n",
    "for query, result in zip(inputQuery, final):\n",
    "    data[query] = result"
   ]
  },
  {
   "cell_type": "code",
   "execution_count": 42,
   "id": "9473f383",
   "metadata": {},
   "outputs": [],
   "source": [
    "with open(\"hw1_4.json\", \"w\") as f:\n",
    "    json.dump(data, f)"
   ]
  },
  {
   "cell_type": "code",
   "execution_count": 43,
   "id": "1a4d8881",
   "metadata": {},
   "outputs": [],
   "source": [
    "with open(\"Google_Result4.json\", \"r\") as file:\n",
    "    # Use json.load() to parse the JSON data\n",
    "    data2 = json.load(file)\n",
    "with open(\"hw1_4.json\", \"r\") as file:\n",
    "    # Use json.load() to parse the JSON data\n",
    "    data = json.load(file)"
   ]
  },
  {
   "cell_type": "code",
   "execution_count": 49,
   "id": "e79559f3",
   "metadata": {},
   "outputs": [],
   "source": [
    "n_res = []\n",
    "spe_res = []\n",
    "for k,v in data.items():\n",
    "    arr1 = v\n",
    "    arr2 = data2[k]\n",
    "    set1 = set(arr1)\n",
    "    set2 = set(arr2)\n",
    "    overlap = set1.intersection(set2)\n",
    "    n = len(overlap)\n",
    "    dsq = 0\n",
    "    spe = 2\n",
    "    if len(overlap) == 0:\n",
    "        spe = 0\n",
    "    for j in overlap:\n",
    "        if len(overlap)== 1:\n",
    "            if arr1.index(j) != arr2.index(j):\n",
    "                spe = 0\n",
    "            else:\n",
    "                spe = 1\n",
    "        else:\n",
    "            dsq += (arr1.index(j) - arr2.index(j))**2\n",
    "    if spe == 2:\n",
    "        spe = 1-((6*dsq)/(n*(n**2-1)))\n",
    "    n_res.append(len(overlap))\n",
    "    spe_res.append(spe)\n"
   ]
  },
  {
   "cell_type": "code",
   "execution_count": 46,
   "id": "e1cccbd9",
   "metadata": {},
   "outputs": [],
   "source": [
    "import csv\n",
    "\n",
    "# list of data\n",
    "\n",
    "data_res = [['Queries', 'Number of Overlapping Results','Percent Overlap',\"Spearman Coefficient\"]]\n",
    "count = 0\n",
    "total_n = 0\n",
    "total_n_per = 0\n",
    "total_spe = 0\n",
    "for k,v in data.items():\n",
    "    res = [k,n_res[count],float(n_res[count]*10),spe_res[count]]\n",
    "    total_n += n_res[count]\n",
    "    total_n_per += float(n_res[count]*10)\n",
    "    total_spe +=spe_res[count]\n",
    "    data_res.append(res)\n",
    "    count +=1\n",
    "data_res.append([\"Averages\",total_n/100,total_n_per/100,total_spe/100])"
   ]
  },
  {
   "cell_type": "code",
   "execution_count": 47,
   "id": "6527bffe",
   "metadata": {},
   "outputs": [],
   "source": [
    "filename = \"hw1_4.csv\"\n",
    "\n",
    "\n",
    "with open(filename, 'w', newline='') as csvfile:\n",
    "\n",
    "    csvwriter = csv.writer(csvfile)\n",
    "\n",
    "    csvwriter.writerows(data_res)"
   ]
  },
  {
   "cell_type": "code",
   "execution_count": null,
   "id": "2622497e",
   "metadata": {},
   "outputs": [],
   "source": []
  }
 ],
 "metadata": {
  "kernelspec": {
   "display_name": "Python 3 (ipykernel)",
   "language": "python",
   "name": "python3"
  },
  "language_info": {
   "codemirror_mode": {
    "name": "ipython",
    "version": 3
   },
   "file_extension": ".py",
   "mimetype": "text/x-python",
   "name": "python",
   "nbconvert_exporter": "python",
   "pygments_lexer": "ipython3",
   "version": "3.9.13"
  }
 },
 "nbformat": 4,
 "nbformat_minor": 5
}
